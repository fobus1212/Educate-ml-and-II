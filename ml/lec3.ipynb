{
 "cells": [
  {
   "cell_type": "code",
   "execution_count": 1,
   "metadata": {},
   "outputs": [],
   "source": [
    "from torch.utils.data import Dataset \n",
    "import pathlib \n",
    "import torch\n",
    "\n"
   ]
  },
  {
   "cell_type": "code",
   "execution_count": 2,
   "metadata": {},
   "outputs": [],
   "source": [
    "class LantiDataset(Dataset): \n",
    "    def __init__(self,path_dataset:pathlib.Path): \n",
    "        self.patch_dataset = patch_dataset \n",
    "     \n",
    "    def __len__(self): \n",
    "        return [x for x in self.patch_dataset.glob(\"*/**\") if x.is_file()]## получаем список файлов  \n",
    "     \n",
    "    def __getitem__(self,index):\n",
    "         img_patch =self.data_list[index] \n",
    "         img_label=torch.zeros(len(self.data_class)) \n",
    "         img_label[self.data_class.index(img_patch.parent)] = 1.0"
   ]
  },
  {
   "cell_type": "code",
   "execution_count": null,
   "metadata": {},
   "outputs": [],
   "source": [
    "path_dataset=pathlib.Path(\"\") ## путь к файлу \n",
    "[x for x in patch_dataset.glob(\"*/**\") if x.is_file()]"
   ]
  }
 ],
 "metadata": {
  "kernelspec": {
   "display_name": "Python 3",
   "language": "python",
   "name": "python3"
  },
  "language_info": {
   "codemirror_mode": {
    "name": "ipython",
    "version": 3
   },
   "file_extension": ".py",
   "mimetype": "text/x-python",
   "name": "python",
   "nbconvert_exporter": "python",
   "pygments_lexer": "ipython3",
   "version": "3.10.11"
  }
 },
 "nbformat": 4,
 "nbformat_minor": 2
}
