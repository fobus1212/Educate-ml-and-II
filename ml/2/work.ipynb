{
 "cells": [
  {
   "cell_type": "code",
   "execution_count": 69,
   "metadata": {},
   "outputs": [
    {
     "name": "stdout",
     "output_type": "stream",
     "text": [
      "Requirement already satisfied: pandas in c:\\python\\lib\\site-packages (2.1.1)\n",
      "Requirement already satisfied: tzdata>=2022.1 in c:\\python\\lib\\site-packages (from pandas) (2023.3)\n",
      "Requirement already satisfied: pytz>=2020.1 in c:\\python\\lib\\site-packages (from pandas) (2023.3.post1)\n",
      "Requirement already satisfied: python-dateutil>=2.8.2 in c:\\users\\fobus\\appdata\\roaming\\python\\python310\\site-packages (from pandas) (2.8.2)\n",
      "Requirement already satisfied: numpy>=1.22.4 in c:\\python\\lib\\site-packages (from pandas) (1.26.0)\n",
      "Requirement already satisfied: six>=1.5 in c:\\users\\fobus\\appdata\\roaming\\python\\python310\\site-packages (from python-dateutil>=2.8.2->pandas) (1.16.0)\n",
      "Note: you may need to restart the kernel to use updated packages.\n"
     ]
    },
    {
     "name": "stderr",
     "output_type": "stream",
     "text": [
      "\n",
      "[notice] A new release of pip is available: 23.0.1 -> 23.2.1\n",
      "[notice] To update, run: python.exe -m pip install --upgrade pip\n",
      "\n",
      "[notice] A new release of pip is available: 23.0.1 -> 23.2.1\n",
      "[notice] To update, run: python.exe -m pip install --upgrade pip\n"
     ]
    },
    {
     "name": "stdout",
     "output_type": "stream",
     "text": [
      "Requirement already satisfied: statsmodels in c:\\python\\lib\\site-packages (0.14.0)\n",
      "Requirement already satisfied: numpy>=1.22.3 in c:\\python\\lib\\site-packages (from statsmodels) (1.26.0)\n",
      "Requirement already satisfied: packaging>=21.3 in c:\\users\\fobus\\appdata\\roaming\\python\\python310\\site-packages (from statsmodels) (23.1)\n",
      "Requirement already satisfied: pandas>=1.0 in c:\\python\\lib\\site-packages (from statsmodels) (2.1.1)\n",
      "Requirement already satisfied: scipy!=1.9.2,>=1.4 in c:\\python\\lib\\site-packages (from statsmodels) (1.11.3)\n",
      "Requirement already satisfied: patsy>=0.5.2 in c:\\python\\lib\\site-packages (from statsmodels) (0.5.3)\n",
      "Requirement already satisfied: pytz>=2020.1 in c:\\python\\lib\\site-packages (from pandas>=1.0->statsmodels) (2023.3.post1)\n",
      "Requirement already satisfied: tzdata>=2022.1 in c:\\python\\lib\\site-packages (from pandas>=1.0->statsmodels) (2023.3)\n",
      "Requirement already satisfied: python-dateutil>=2.8.2 in c:\\users\\fobus\\appdata\\roaming\\python\\python310\\site-packages (from pandas>=1.0->statsmodels) (2.8.2)\n",
      "Requirement already satisfied: six in c:\\users\\fobus\\appdata\\roaming\\python\\python310\\site-packages (from patsy>=0.5.2->statsmodels) (1.16.0)\n",
      "Note: you may need to restart the kernel to use updated packages.\n"
     ]
    },
    {
     "data": {
      "text/html": [
       "<div>\n",
       "<style scoped>\n",
       "    .dataframe tbody tr th:only-of-type {\n",
       "        vertical-align: middle;\n",
       "    }\n",
       "\n",
       "    .dataframe tbody tr th {\n",
       "        vertical-align: top;\n",
       "    }\n",
       "\n",
       "    .dataframe thead th {\n",
       "        text-align: right;\n",
       "    }\n",
       "</style>\n",
       "<table border=\"1\" class=\"dataframe\">\n",
       "  <thead>\n",
       "    <tr style=\"text-align: right;\">\n",
       "      <th></th>\n",
       "      <th>device_id</th>\n",
       "      <th>device_type</th>\n",
       "      <th>datetime</th>\n",
       "      <th>ev_type</th>\n",
       "      <th>adv_type</th>\n",
       "      <th>region_id</th>\n",
       "      <th>age</th>\n",
       "      <th>gender</th>\n",
       "    </tr>\n",
       "  </thead>\n",
       "  <tbody>\n",
       "    <tr>\n",
       "      <th>0</th>\n",
       "      <td>100001</td>\n",
       "      <td>android</td>\n",
       "      <td>2019-03-01 15:58:02</td>\n",
       "      <td>0</td>\n",
       "      <td>multi</td>\n",
       "      <td>2</td>\n",
       "      <td>14</td>\n",
       "      <td>2</td>\n",
       "    </tr>\n",
       "    <tr>\n",
       "      <th>1</th>\n",
       "      <td>100001</td>\n",
       "      <td>android</td>\n",
       "      <td>2019-03-01 17:13:53</td>\n",
       "      <td>0</td>\n",
       "      <td>multi</td>\n",
       "      <td>2</td>\n",
       "      <td>14</td>\n",
       "      <td>2</td>\n",
       "    </tr>\n",
       "    <tr>\n",
       "      <th>2</th>\n",
       "      <td>100002</td>\n",
       "      <td>android</td>\n",
       "      <td>2019-03-01 23:13:25</td>\n",
       "      <td>0</td>\n",
       "      <td>multi</td>\n",
       "      <td>2</td>\n",
       "      <td>0</td>\n",
       "      <td>0</td>\n",
       "    </tr>\n",
       "    <tr>\n",
       "      <th>3</th>\n",
       "      <td>100002</td>\n",
       "      <td>android</td>\n",
       "      <td>2019-03-01 23:25:06</td>\n",
       "      <td>0</td>\n",
       "      <td>multi</td>\n",
       "      <td>2</td>\n",
       "      <td>0</td>\n",
       "      <td>0</td>\n",
       "    </tr>\n",
       "    <tr>\n",
       "      <th>4</th>\n",
       "      <td>100003</td>\n",
       "      <td>android</td>\n",
       "      <td>2019-03-01 15:27:53</td>\n",
       "      <td>0</td>\n",
       "      <td>multi</td>\n",
       "      <td>1</td>\n",
       "      <td>0</td>\n",
       "      <td>0</td>\n",
       "    </tr>\n",
       "  </tbody>\n",
       "</table>\n",
       "</div>"
      ],
      "text/plain": [
       "   device_id device_type             datetime  ev_type adv_type  region_id  \\\n",
       "0     100001     android  2019-03-01 15:58:02        0    multi          2   \n",
       "1     100001     android  2019-03-01 17:13:53        0    multi          2   \n",
       "2     100002     android  2019-03-01 23:13:25        0    multi          2   \n",
       "3     100002     android  2019-03-01 23:25:06        0    multi          2   \n",
       "4     100003     android  2019-03-01 15:27:53        0    multi          1   \n",
       "\n",
       "   age  gender  \n",
       "0   14       2  \n",
       "1   14       2  \n",
       "2    0       0  \n",
       "3    0       0  \n",
       "4    0       0  "
      ]
     },
     "execution_count": 69,
     "metadata": {},
     "output_type": "execute_result"
    }
   ],
   "source": [
    "%pip install pandas  \n",
    "%pip install statsmodels\n",
    "import numpy as np\n",
    "import pandas as pd  \n",
    "data = pd.read_csv('python_task_dataset.csv')  \n",
    "import statsmodels.api as sm\n",
    "from statsmodels.formula.api import ols\n",
    "data.head() "
   ]
  },
  {
   "cell_type": "code",
   "execution_count": 70,
   "metadata": {},
   "outputs": [],
   "source": [
    "missing_values = data.isnull() \n",
    "missing_values_count = missing_values.sum()\n"
   ]
  },
  {
   "cell_type": "code",
   "execution_count": 71,
   "metadata": {},
   "outputs": [
    {
     "name": "stdout",
     "output_type": "stream",
     "text": [
      "             ev_type      region_id            age         gender\n",
      "count  265403.000000  265403.000000  265403.000000  265403.000000\n",
      "mean        0.015478       1.204941      28.562051       0.932529\n",
      "std         0.123446       0.403659      15.912911       0.376287\n",
      "min         0.000000       1.000000       0.000000       0.000000\n",
      "25%         0.000000       1.000000      21.000000       1.000000\n",
      "50%         0.000000       1.000000      29.000000       1.000000\n",
      "75%         0.000000       1.000000      38.000000       1.000000\n",
      "max         1.000000       2.000000      75.000000       2.000000\n"
     ]
    }
   ],
   "source": [
    "data228= pd.read_csv('python_task_dataset.csv', usecols=lambda column: column not in ['device_id']) \n",
    "data_stats = data228.describe() \n",
    "print(data_stats)\n"
   ]
  },
  {
   "cell_type": "code",
   "execution_count": 72,
   "metadata": {},
   "outputs": [
    {
     "name": "stdout",
     "output_type": "stream",
     "text": [
      "             device_type   ev_type  adv_type  region_id       age    gender\n",
      "device_type     1.000000  0.019316  0.196681   0.000580  0.100206  0.071951\n",
      "ev_type         0.019316  1.000000  0.045161   0.001807  0.036574  0.014777\n",
      "adv_type        0.196681  0.045161  1.000000   0.001111  0.666329  0.365826\n",
      "region_id       0.000580  0.001807  0.001111   1.000000  0.058527  0.018031\n",
      "age             0.100206  0.036574  0.666329   0.058527  1.000000  0.418514\n",
      "gender          0.071951  0.014777  0.365826   0.018031  0.418514  1.000000\n"
     ]
    }
   ],
   "source": [
    "\n",
    "df = pd.read_csv(\"python_task_dataset.csv\") \n",
    "df= pd.read_csv('python_task_dataset.csv', usecols=lambda column: column not in ['device_id','datetime']) \n",
    "\n",
    "# Замена значений в колонке\n",
    "df[\"device_type\"] = df[\"device_type\"].replace({\"android\": 0, \"ios\": 1})\n",
    "# андроид - 0 ios -1  \n",
    "df[\"adv_type\"] = df[\"adv_type\"].replace({\"multi\": 0, \"video\": 1})\n",
    "data_corr = df.corr()  \n",
    "data_corr_scalar = abs(data_corr) \n",
    "print(data_corr_scalar)  \n",
    "# дисперсионный анализ"
   ]
  },
  {
   "cell_type": "code",
   "execution_count": 73,
   "metadata": {},
   "outputs": [
    {
     "name": "stdout",
     "output_type": "stream",
     "text": [
      "                df        sum_sq   mean_sq          F        PR(>F)\n",
      "ev_type        1.0      8.205437  8.205437  57.963719  2.678723e-14\n",
      "Residual  265401.0  37570.591758  0.141562        NaN           NaN\n"
     ]
    }
   ],
   "source": [
    " \n",
    "disa= pd.read_csv(\"python_task_dataset.csv\")  \n",
    "disa[\"device_type\"] = df[\"device_type\"].replace({\"android\": 1, \"ios\": 2,}) \n",
    "# group_a = disa[disa[\"device_type\"] == \"A\"] \n",
    "# group_b = disa[disa[\"age\"] == \"B\"]\n",
    "# group_c = disa[disa[\"gender\"] == \"C\"] \n",
    "model = ols('gender ~ ev_type', data=disa).fit()  \n",
    "anova_table = sm.stats.anova_lm(model) \n",
    "print(anova_table)\n",
    "# F критерий  \n",
    "# pr(>f) как интерпиретировать \n"
   ]
  },
  {
   "cell_type": "code",
   "execution_count": 74,
   "metadata": {},
   "outputs": [
    {
     "name": "stdout",
     "output_type": "stream",
     "text": [
      "                df        sum_sq       mean_sq           F        PR(>F)\n",
      "ev_type        1.0  8.989984e+04  89899.835972  355.499785  3.030087e-79\n",
      "Residual  265401.0  6.711539e+07    252.882955         NaN           NaN\n"
     ]
    }
   ],
   "source": [
    "model = ols('age ~ ev_type', data=disa).fit()  \n",
    "anova_table = sm.stats.anova_lm(model) \n",
    "print(anova_table)"
   ]
  },
  {
   "cell_type": "code",
   "execution_count": 75,
   "metadata": {},
   "outputs": [
    {
     "name": "stdout",
     "output_type": "stream",
     "text": [
      "                df        sum_sq    mean_sq         F        PR(>F)\n",
      "ev_type        1.0     11.829032  11.829032  99.06283  2.469336e-23\n",
      "Residual  265401.0  31691.372363   0.119409       NaN           NaN\n"
     ]
    }
   ],
   "source": [
    "model = ols('device_type ~ ev_type', data=disa).fit()  \n",
    "anova_table = sm.stats.anova_lm(model) \n",
    "print(anova_table)"
   ]
  }
 ],
 "metadata": {
  "kernelspec": {
   "display_name": "Python 3",
   "language": "python",
   "name": "python3"
  },
  "language_info": {
   "codemirror_mode": {
    "name": "ipython",
    "version": 3
   },
   "file_extension": ".py",
   "mimetype": "text/x-python",
   "name": "python",
   "nbconvert_exporter": "python",
   "pygments_lexer": "ipython3",
   "version": "3.10.11"
  }
 },
 "nbformat": 4,
 "nbformat_minor": 2
}
