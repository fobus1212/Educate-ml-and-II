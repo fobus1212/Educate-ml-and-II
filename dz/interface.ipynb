{
 "cells": [
  {
   "cell_type": "code",
   "execution_count": 1,
   "metadata": {},
   "outputs": [],
   "source": [
    "class Character:\n",
    "    def __init__(self, name, age, gender):\n",
    "        self.name = name\n",
    "        self.age = age\n",
    "        self.gender = gender"
   ]
  },
  {
   "cell_type": "code",
   "execution_count": 2,
   "metadata": {},
   "outputs": [],
   "source": [
    "class HarryPotter(Character):\n",
    "    def __init__(self, name, age, gender, house):\n",
    "        super().__init__(name, age, gender)\n",
    "        self.house = house\n"
   ]
  },
  {
   "cell_type": "code",
   "execution_count": 3,
   "metadata": {},
   "outputs": [],
   "source": [
    "class Hagrid(Character):\n",
    "    def __init__(self, name, age, gender, pet):\n",
    "        super().__init__(name, age, gender)\n",
    "        self.pet = pet"
   ]
  },
  {
   "cell_type": "code",
   "execution_count": 4,
   "metadata": {},
   "outputs": [],
   "source": [
    "class Shrek(Character):\n",
    "    def __init__(self, name, age, gender, occupation):\n",
    "        super().__init__(name, age, gender)\n",
    "        self.occupation = occupation"
   ]
  },
  {
   "cell_type": "code",
   "execution_count": 5,
   "metadata": {},
   "outputs": [],
   "source": [
    "class MixinFallable:\n",
    "    def fall(self):\n",
    "        print(\"Oops! I fell down!\")\n"
   ]
  },
  {
   "cell_type": "code",
   "execution_count": 6,
   "metadata": {},
   "outputs": [],
   "source": [
    "class MixinDusty:\n",
    "    def collect_dust(self):\n",
    "        print(\"I'm collecting dust!\")\n"
   ]
  },
  {
   "cell_type": "code",
   "execution_count": 7,
   "metadata": {},
   "outputs": [],
   "source": [
    "class MixinJumpable:\n",
    "    def jump(self):\n",
    "        print(\"I'm jumping!\")"
   ]
  },
  {
   "cell_type": "code",
   "execution_count": 8,
   "metadata": {},
   "outputs": [],
   "source": [
    "class MixinTalkable:\n",
    "    def talk(self):\n",
    "        print(\"I can talk!\")"
   ]
  },
  {
   "cell_type": "code",
   "execution_count": 9,
   "metadata": {},
   "outputs": [],
   "source": [
    "class MixinPlayable:\n",
    "    def play(self):\n",
    "        print(\"Let's play!\")"
   ]
  },
  {
   "cell_type": "code",
   "execution_count": 10,
   "metadata": {},
   "outputs": [],
   "source": [
    "class PlayableHarryPotter(HarryPotter, MixinPlayable):\n",
    "    pass"
   ]
  },
  {
   "cell_type": "code",
   "execution_count": 11,
   "metadata": {},
   "outputs": [
    {
     "ename": "NameError",
     "evalue": "name 'MixinFunkoPop' is not defined",
     "output_type": "error",
     "traceback": [
      "\u001b[1;31m---------------------------------------------------------------------------\u001b[0m",
      "\u001b[1;31mNameError\u001b[0m                                 Traceback (most recent call last)",
      "\u001b[1;32mc:\\Users\\fobus\\Desktop\\GIT_TEST\\dz\\interface.ipynb Cell 11\u001b[0m line \u001b[0;36m1\n\u001b[1;32m----> <a href='vscode-notebook-cell:/c%3A/Users/fobus/Desktop/GIT_TEST/dz/interface.ipynb#X13sZmlsZQ%3D%3D?line=0'>1</a>\u001b[0m \u001b[39mclass\u001b[39;00m \u001b[39mFunkoPopHarryPotter\u001b[39;00m(HarryPotter, MixinFunkoPop):\n\u001b[0;32m      <a href='vscode-notebook-cell:/c%3A/Users/fobus/Desktop/GIT_TEST/dz/interface.ipynb#X13sZmlsZQ%3D%3D?line=1'>2</a>\u001b[0m     \u001b[39mpass\u001b[39;00m\n",
      "\u001b[1;31mNameError\u001b[0m: name 'MixinFunkoPop' is not defined"
     ]
    }
   ],
   "source": [
    "class FunkoPopHarryPotter(HarryPotter, MixinFunkoPop):\n",
    "    pass"
   ]
  }
 ],
 "metadata": {
  "kernelspec": {
   "display_name": "Python 3",
   "language": "python",
   "name": "python3"
  },
  "language_info": {
   "codemirror_mode": {
    "name": "ipython",
    "version": 3
   },
   "file_extension": ".py",
   "mimetype": "text/x-python",
   "name": "python",
   "nbconvert_exporter": "python",
   "pygments_lexer": "ipython3",
   "version": "3.9.13"
  },
  "orig_nbformat": 4
 },
 "nbformat": 4,
 "nbformat_minor": 2
}
