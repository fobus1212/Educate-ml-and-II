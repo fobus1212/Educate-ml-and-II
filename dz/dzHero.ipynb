{
 "cells": [
  {
   "cell_type": "code",
   "execution_count": 1,
   "metadata": {},
   "outputs": [],
   "source": [
    "\n",
    "class Character:\n",
    "    def __init__(self, force, dexterity, intelligence):\n",
    "        self.force = force\n",
    "        self.dexterity = dexterity\n",
    "        self.intelligence = intelligence\n",
    "        self.speed = self.calcSpeed()\n",
    "        self.damage = self.calcDamage()  \n",
    "        self.health=self.calcHealth()\n",
    "\n",
    "\n",
    "    def calcSpeed(self):\n",
    "        return self.dexterity * 2\n",
    "\n",
    "    def calcDamage(self):\n",
    "        return self.force * self.intelligence\n",
    "\n",
    "    def fight(self,fightSpeach):\n",
    "        print(fightSpeach)\n",
    "        \n",
    "    def wait(self,waitSpeach):\n",
    "        print(waitSpeach)\n",
    "\n",
    "    def win(self,winSpeach):\n",
    "        print(winSpeach) \n",
    "\n",
    "    def move(self,moveSpeach):\n",
    "        print(moveSpeach)\n",
    "     \n",
    "    def lose(self,loseSpeach):\n",
    "        print(loseSpeach)  \n",
    "     \n",
    "    def calcHealth(self): \n",
    "        return self.force * self.dexterity*2\n",
    "         \n",
    "          \n",
    "    "
   ]
  },
  {
   "cell_type": "code",
   "execution_count": 2,
   "metadata": {},
   "outputs": [],
   "source": [
    "class Hero(Character):\n",
    "    defaultUniformColor = 'blue'\n",
    "\n",
    "    def goodBaf(self):  \n",
    "        return self.force * 0.5 \n",
    " \n",
    "  \n",
    "\n",
    "class Vilian(Character):  \n",
    "    defaultUniformColor = 'black'\n",
    "     \n",
    "    def evilBaf(self): \n",
    "        return self.dexterity * 0.5  \n",
    "       "
   ]
  },
  {
   "cell_type": "code",
   "execution_count": 3,
   "metadata": {},
   "outputs": [],
   "source": [
    "class Policeman(Hero): \n",
    "    def FS(self):  \n",
    "        fightSpeach = \"Good always triumphs over evil\" \n",
    "        self.fight(fightSpeach)  \n",
    "\n",
    "    def WS(self): \n",
    "        waitSpeach = \"Crime never sleeps and I shouldn't\" \n",
    "        self.wait(waitSpeach) \n",
    "     \n",
    "    def WIS(self): \n",
    "        winSpeach =\"Criminals have no place in this city\" \n",
    "        self.win(winSpeach) \n",
    "         \n",
    "    def MS(self): \n",
    "        moveSpeach = \"Work doesn't wait\" \n",
    "        self.move(moveSpeach)\n",
    "\n",
    "    def LS(self): \n",
    "        loseSpeach = \"Tell my wife that I love her\"  \n",
    "        self.lose(loseSpeach)"
   ]
  },
  {
   "cell_type": "code",
   "execution_count": 4,
   "metadata": {},
   "outputs": [],
   "source": [
    "class Thief(Hero): \n",
    "    def FS(self):  \n",
    "        fightSpeach = \"Good always triumphs over evil onli in fable \" \n",
    "        self.fight(fightSpeach)  \n",
    "\n",
    "    def WS(self): \n",
    "        waitSpeach = \"I'll wait until the police fall asleep\" \n",
    "        self.wait(waitSpeach) \n",
    "     \n",
    "    def WIS(self): \n",
    "        winSpeach =\"Crime is an integral part of the city\" \n",
    "        self.win(winSpeach) \n",
    "         \n",
    "    def MS(self): \n",
    "        moveSpeach = \"I'll wait, I'm in no hurry\" \n",
    "        self.move(moveSpeach)\n",
    "\n",
    "    def LS(self): \n",
    "        loseSpeach = \"it can't end like this\"  \n",
    "        self.lose(loseSpeach)"
   ]
  },
  {
   "cell_type": "code",
   "execution_count": 5,
   "metadata": {},
   "outputs": [
    {
     "name": "stdout",
     "output_type": "stream",
     "text": [
      "Note: you may need to restart the kernel to use updated packages.\n"
     ]
    },
    {
     "name": "stderr",
     "output_type": "stream",
     "text": [
      "ERROR: Could not find a version that satisfies the requirement random (from versions: none)\n",
      "ERROR: No matching distribution found for random\n"
     ]
    }
   ],
   "source": [
    "%pip install random -q \n",
    "import random"
   ]
  },
  {
   "cell_type": "code",
   "execution_count": 6,
   "metadata": {},
   "outputs": [
    {
     "name": "stdout",
     "output_type": "stream",
     "text": [
      "Битва начинается!\n",
      "Герой: Сила - 10, Ловкость - 5, Интеллект - 8\n",
      "Злодей: Сила - 8, Ловкость - 6, Интеллект - 7\n",
      "\n",
      "Герой атакует злодея и наносит 72.04285338463414 урона\n",
      "Злодей атакует героя и наносит 48.68218429084504 урона\n",
      "\n",
      "Герой атакует злодея и наносит 99.76448038038865 урона\n",
      "Герой победил!\n",
      "Битва окончена!\n"
     ]
    }
   ],
   "source": [
    "def battle(hero, villain):\n",
    "    print(\"Битва начинается!\")\n",
    "    print(\"Герой: Сила - {}, Ловкость - {}, Интеллект - {}\".format(hero.force, hero.dexterity, hero.intelligence))\n",
    "    print(\"Злодей: Сила - {}, Ловкость - {}, Интеллект - {}\".format(villain.force, villain.dexterity, villain.intelligence))\n",
    "    print()\n",
    "\n",
    "    while True:\n",
    "        \n",
    "        hero_damage = hero.damage * random.uniform(0.8, 1.2) + hero.goodBaf()\n",
    "        villain_health = villain.health - hero_damage\n",
    "        print(\"Герой атакует злодея и наносит {} урона\".format(hero_damage))\n",
    "        \n",
    "        if villain_health <= 0:\n",
    "            print(\"Герой победил!\")\n",
    "            break\n",
    "        \n",
    "        \n",
    "        villain_damage = villain.damage * random.uniform(0.8, 1.2) + villain.evilBaf()\n",
    "        hero_health = hero.health - villain_damage\n",
    "        print(\"Злодей атакует героя и наносит {} урона\".format(villain_damage))\n",
    "        \n",
    "        if hero_health <= 0:\n",
    "            print(\"Злодей победил!\")\n",
    "            break\n",
    "        \n",
    "        print()\n",
    "    \n",
    "    print(\"Битва окончена!\")\n",
    "\n",
    "\n",
    "hero = Hero(10, 5, 8)\n",
    "villain = Vilian(8, 6, 7)\n",
    "\n",
    "\n",
    "battle(hero, villain)\n"
   ]
  }
 ],
 "metadata": {
  "kernelspec": {
   "display_name": "Python 3",
   "language": "python",
   "name": "python3"
  },
  "language_info": {
   "codemirror_mode": {
    "name": "ipython",
    "version": 3
   },
   "file_extension": ".py",
   "mimetype": "text/x-python",
   "name": "python",
   "nbconvert_exporter": "python",
   "pygments_lexer": "ipython3",
   "version": "3.9.13"
  },
  "orig_nbformat": 4
 },
 "nbformat": 4,
 "nbformat_minor": 2
}
